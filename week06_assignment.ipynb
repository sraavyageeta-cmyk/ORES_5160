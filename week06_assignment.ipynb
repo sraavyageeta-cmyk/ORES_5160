{
  "nbformat": 4,
  "nbformat_minor": 0,
  "metadata": {
    "colab": {
      "provenance": [],
      "include_colab_link": true
    },
    "kernelspec": {
      "name": "python3",
      "display_name": "Python 3"
    },
    "language_info": {
      "name": "python"
    }
  },
  "cells": [
    {
      "cell_type": "markdown",
      "metadata": {
        "id": "view-in-github",
        "colab_type": "text"
      },
      "source": [
        "<a href=\"https://colab.research.google.com/github/sraavyageeta-cmyk/ORES_5160/blob/main/week06_assignment.ipynb\" target=\"_parent\"><img src=\"https://colab.research.google.com/assets/colab-badge.svg\" alt=\"Open In Colab\"/></a>"
      ]
    },
    {
      "cell_type": "code",
      "execution_count": null,
      "metadata": {
        "id": "oQ8VIGdwtyt9"
      },
      "outputs": [],
      "source": [
        "table01 = [\n",
        "    {\"Interaction ID\": 10114, \"Customer ID\": 524, \"Customer Name\": \"Bob Smith\", \"Customer Address\": \"121 abc\",\n",
        "     \"Customer Phone\": \"1111111111\", \"Desk Staff ID\": 48, \"Desk Staff Name\": \"Sam G\", \"Timestamp\": \"20210202 0400 UTC\", \"Shift\": 3},\n",
        "    {\"Interaction ID\": 10115, \"Customer ID\": 127, \"Customer Name\": \"Xi Huan\", \"Customer Address\": \"1411 xyz\",\n",
        "     \"Customer Phone\": \"2112111111\", \"Desk Staff ID\": 48, \"Desk Staff Name\": \"Sam G\", \"Timestamp\": \"20210202 0412 UTC\", \"Shift\": 3},\n",
        "    {\"Interaction ID\": 10116, \"Customer ID\": 127, \"Customer Name\": \"Xi Huan\", \"Customer Address\": \"1411 xyz\",\n",
        "     \"Customer Phone\": \"2112111111\", \"Desk Staff ID\": 17, \"Desk Staff Name\": \"Mia Ol\", \"Timestamp\": \"20210202 0621 UTC\", \"Shift\": 1},\n",
        "    {\"Interaction ID\": 10117, \"Customer ID\": 421, \"Customer Name\": \"Sri Lahk\", \"Customer Address\": \"13 ghi\",\n",
        "     \"Customer Phone\": \"110111211\", \"Desk Staff ID\": 17, \"Desk Staff Name\": \"Mia Ol\", \"Timestamp\": \"20210202 0711 UTC\", \"Shift\": 1},\n",
        "    {\"Interaction ID\": 10118, \"Customer ID\": 524, \"Customer Name\": \"Bob Smith\", \"Customer Address\": \"121 abc\",\n",
        "     \"Customer Phone\": \"1111111111\", \"Desk Staff ID\": 32, \"Desk Staff Name\": \"Jose Pr\", \"Timestamp\": \"20210202 0932 UTC\", \"Shift\": 1},\n",
        "]"
      ]
    },
    {
      "cell_type": "markdown",
      "source": [
        "Q1. SELECT * FROM table01 WHERE Desk Staff ID = 17\n"
      ],
      "metadata": {
        "id": "SIDHE8ih-N37"
      }
    },
    {
      "cell_type": "code",
      "source": [
        "for row in table01:\n",
        "  if row[\"Desk Staff ID\"] == 17:\n",
        "    print(row)"
      ],
      "metadata": {
        "id": "CSYbKbSIBstM",
        "outputId": "f8aa34a4-86f6-4dcb-d45f-cee81f8b0542",
        "colab": {
          "base_uri": "https://localhost:8080/"
        }
      },
      "execution_count": null,
      "outputs": [
        {
          "output_type": "stream",
          "name": "stdout",
          "text": [
            "{'Interaction ID': 10116, 'Customer ID': 127, 'Customer Name': 'Xi Huan', 'Customer Address': '1411 xyz', 'Customer Phone': '2112111111', 'Desk Staff ID': 17, 'Desk Staff Name': 'Mia Ol', 'Timestamp': '20210202 0621 UTC', 'Shift': 1}\n",
            "{'Interaction ID': 10117, 'Customer ID': 421, 'Customer Name': 'Sri Lahk', 'Customer Address': '13 ghi', 'Customer Phone': '110111211', 'Desk Staff ID': 17, 'Desk Staff Name': 'Mia Ol', 'Timestamp': '20210202 0711 UTC', 'Shift': 1}\n"
          ]
        }
      ]
    },
    {
      "cell_type": "markdown",
      "source": [
        "Q2: SELECT * FROM table WHERE Desk Staff ID = 17 AND Customer ID = 127"
      ],
      "metadata": {
        "id": "jndf8cDa-ZaR"
      }
    },
    {
      "cell_type": "code",
      "source": [
        "for row in table01:\n",
        "  if row[\"Desk Staff ID\"] == 17 and row[\"Customer ID\"] == 127:\n",
        "    print(row)"
      ],
      "metadata": {
        "colab": {
          "base_uri": "https://localhost:8080/"
        },
        "id": "woAUNBFWGPVw",
        "outputId": "e16324c5-cbb8-44c9-aae6-d2a603f0f060"
      },
      "execution_count": null,
      "outputs": [
        {
          "output_type": "stream",
          "name": "stdout",
          "text": [
            "{'Interaction ID': 10116, 'Customer ID': 127, 'Customer Name': 'Xi Huan', 'Customer Address': '1411 xyz', 'Customer Phone': '2112111111', 'Desk Staff ID': 17, 'Desk Staff Name': 'Mia Ol', 'Timestamp': '20210202 0621 UTC', 'Shift': 1}\n"
          ]
        }
      ]
    },
    {
      "cell_type": "markdown",
      "source": [
        "Q3:SELECT * FROM table WHERE Desk Staff ID = 17 OR Customer ID = 127"
      ],
      "metadata": {
        "id": "AevNqk2a-tee"
      }
    },
    {
      "cell_type": "code",
      "source": [
        "for row in table01:\n",
        "  if row[\"Desk Staff ID\"] == 17 or row[\"Customer ID\"] == 127:\n",
        "    print(row)"
      ],
      "metadata": {
        "colab": {
          "base_uri": "https://localhost:8080/"
        },
        "id": "ygrrev1sGX8I",
        "outputId": "3688f7f7-b3a3-4762-8f63-5997c05f27cd"
      },
      "execution_count": null,
      "outputs": [
        {
          "output_type": "stream",
          "name": "stdout",
          "text": [
            "{'Interaction ID': 10115, 'Customer ID': 127, 'Customer Name': 'Xi Huan', 'Customer Address': '1411 xyz', 'Customer Phone': '2112111111', 'Desk Staff ID': 48, 'Desk Staff Name': 'Sam G', 'Timestamp': '20210202 0412 UTC', 'Shift': 3}\n",
            "{'Interaction ID': 10116, 'Customer ID': 127, 'Customer Name': 'Xi Huan', 'Customer Address': '1411 xyz', 'Customer Phone': '2112111111', 'Desk Staff ID': 17, 'Desk Staff Name': 'Mia Ol', 'Timestamp': '20210202 0621 UTC', 'Shift': 1}\n",
            "{'Interaction ID': 10117, 'Customer ID': 421, 'Customer Name': 'Sri Lahk', 'Customer Address': '13 ghi', 'Customer Phone': '110111211', 'Desk Staff ID': 17, 'Desk Staff Name': 'Mia Ol', 'Timestamp': '20210202 0711 UTC', 'Shift': 1}\n"
          ]
        }
      ]
    },
    {
      "cell_type": "markdown",
      "source": [
        "Q4: SELECT * FROM table WHERE NOT Desk Staff ID = 17 (HINT: use !=)"
      ],
      "metadata": {
        "id": "KDZu0U9P-gQ7"
      }
    },
    {
      "cell_type": "code",
      "source": [
        "for row in table01:\n",
        "  if row[\"Desk Staff ID\"] != 17:\n",
        "    print(row)"
      ],
      "metadata": {
        "colab": {
          "base_uri": "https://localhost:8080/"
        },
        "id": "Ly8cAw6MGcO5",
        "outputId": "97c7fa91-aaf7-4f1e-955d-752ffc95c198"
      },
      "execution_count": null,
      "outputs": [
        {
          "output_type": "stream",
          "name": "stdout",
          "text": [
            "{'Interaction ID': 10114, 'Customer ID': 524, 'Customer Name': 'Bob Smith', 'Customer Address': '121 abc', 'Customer Phone': '1111111111', 'Desk Staff ID': 48, 'Desk Staff Name': 'Sam G', 'Timestamp': '20210202 0400 UTC', 'Shift': 3}\n",
            "{'Interaction ID': 10115, 'Customer ID': 127, 'Customer Name': 'Xi Huan', 'Customer Address': '1411 xyz', 'Customer Phone': '2112111111', 'Desk Staff ID': 48, 'Desk Staff Name': 'Sam G', 'Timestamp': '20210202 0412 UTC', 'Shift': 3}\n",
            "{'Interaction ID': 10118, 'Customer ID': 524, 'Customer Name': 'Bob Smith', 'Customer Address': '121 abc', 'Customer Phone': '1111111111', 'Desk Staff ID': 32, 'Desk Staff Name': 'Jose Pr', 'Timestamp': '20210202 0932 UTC', 'Shift': 1}\n"
          ]
        }
      ]
    },
    {
      "cell_type": "markdown",
      "source": [
        "Q5:SELECT * FROM table WHERE Desk Staff ID = 17 and not Customer ID = 127"
      ],
      "metadata": {
        "id": "qkQczsCz_DMS"
      }
    },
    {
      "cell_type": "code",
      "source": [
        "for row in table01:\n",
        "  if row[\"Desk Staff ID\"] == 17 and row[\"Customer ID\"] != 127:\n",
        "    print(row)"
      ],
      "metadata": {
        "colab": {
          "base_uri": "https://localhost:8080/"
        },
        "id": "Re_eNWI-Ggs1",
        "outputId": "0cfcb7f7-624f-4b2c-fc2e-66936d47f490"
      },
      "execution_count": null,
      "outputs": [
        {
          "output_type": "stream",
          "name": "stdout",
          "text": [
            "{'Interaction ID': 10117, 'Customer ID': 421, 'Customer Name': 'Sri Lahk', 'Customer Address': '13 ghi', 'Customer Phone': '110111211', 'Desk Staff ID': 17, 'Desk Staff Name': 'Mia Ol', 'Timestamp': '20210202 0711 UTC', 'Shift': 1}\n"
          ]
        }
      ]
    },
    {
      "cell_type": "markdown",
      "source": [
        "Q6:SELECT * FROM table WHERE Desk Staff ID = 17 or not Customer ID = 127"
      ],
      "metadata": {
        "id": "eUgOYIzC_RF0"
      }
    },
    {
      "cell_type": "code",
      "source": [
        "for row in table01:\n",
        "  if row[\"Desk Staff ID\"] == 17 or row[\"Customer ID\"] != 127:\n",
        "    print(row)"
      ],
      "metadata": {
        "colab": {
          "base_uri": "https://localhost:8080/"
        },
        "id": "5Y5n4JhjGjJZ",
        "outputId": "ed69ac34-8678-4d54-d560-c6849665b3fc"
      },
      "execution_count": null,
      "outputs": [
        {
          "output_type": "stream",
          "name": "stdout",
          "text": [
            "{'Interaction ID': 10114, 'Customer ID': 524, 'Customer Name': 'Bob Smith', 'Customer Address': '121 abc', 'Customer Phone': '1111111111', 'Desk Staff ID': 48, 'Desk Staff Name': 'Sam G', 'Timestamp': '20210202 0400 UTC', 'Shift': 3}\n",
            "{'Interaction ID': 10116, 'Customer ID': 127, 'Customer Name': 'Xi Huan', 'Customer Address': '1411 xyz', 'Customer Phone': '2112111111', 'Desk Staff ID': 17, 'Desk Staff Name': 'Mia Ol', 'Timestamp': '20210202 0621 UTC', 'Shift': 1}\n",
            "{'Interaction ID': 10117, 'Customer ID': 421, 'Customer Name': 'Sri Lahk', 'Customer Address': '13 ghi', 'Customer Phone': '110111211', 'Desk Staff ID': 17, 'Desk Staff Name': 'Mia Ol', 'Timestamp': '20210202 0711 UTC', 'Shift': 1}\n",
            "{'Interaction ID': 10118, 'Customer ID': 524, 'Customer Name': 'Bob Smith', 'Customer Address': '121 abc', 'Customer Phone': '1111111111', 'Desk Staff ID': 32, 'Desk Staff Name': 'Jose Pr', 'Timestamp': '20210202 0932 UTC', 'Shift': 1}\n"
          ]
        }
      ]
    },
    {
      "cell_type": "code",
      "source": [],
      "metadata": {
        "id": "yOhHfc_T_SCi"
      },
      "execution_count": null,
      "outputs": []
    }
  ]
}